{
 "cells": [
  {
   "cell_type": "code",
   "execution_count": 31,
   "metadata": {},
   "outputs": [],
   "source": [
    "import pandas as pd\n",
    "import re \n",
    "df = pd.read_csv('dados/teste.csv')\n",
    "metade = len(df)/2\n",
    "df_teste = df[:int(metade)]\n",
    "df_treino = df[int(metade):]"
   ]
  },
  {
   "cell_type": "code",
   "execution_count": 32,
   "metadata": {},
   "outputs": [
    {
     "ename": "KeyboardInterrupt",
     "evalue": "",
     "output_type": "error",
     "traceback": [
      "\u001b[1;31m---------------------------------------------------------------------------\u001b[0m",
      "\u001b[1;31mKeyboardInterrupt\u001b[0m                         Traceback (most recent call last)",
      "\u001b[1;32mc:\\Users\\leosf\\Repositories\\Aps_2\\teste.ipynb Cell 2\u001b[0m line \u001b[0;36m3\n\u001b[0;32m     <a href='vscode-notebook-cell:/c%3A/Users/leosf/Repositories/Aps_2/teste.ipynb#W1sZmlsZQ%3D%3D?line=34'>35</a>\u001b[0m filtro_negativo \u001b[39m=\u001b[39m df_teste[\u001b[39m'\u001b[39m\u001b[39msentiment\u001b[39m\u001b[39m'\u001b[39m] \u001b[39m==\u001b[39m \u001b[39m'\u001b[39m\u001b[39mnegative\u001b[39m\u001b[39m'\u001b[39m\n\u001b[0;32m     <a href='vscode-notebook-cell:/c%3A/Users/leosf/Repositories/Aps_2/teste.ipynb#W1sZmlsZQ%3D%3D?line=35'>36</a>\u001b[0m df_negativo \u001b[39m=\u001b[39m df_teste[filtro_negativo]\n\u001b[1;32m---> <a href='vscode-notebook-cell:/c%3A/Users/leosf/Repositories/Aps_2/teste.ipynb#W1sZmlsZQ%3D%3D?line=36'>37</a>\u001b[0m lista_negativo \u001b[39m=\u001b[39m limpa_texto(df_negativo[\u001b[39m'\u001b[39;49m\u001b[39mreview\u001b[39;49m\u001b[39m'\u001b[39;49m])\n",
      "\u001b[1;32mc:\\Users\\leosf\\Repositories\\Aps_2\\teste.ipynb Cell 2\u001b[0m line \u001b[0;36m1\n\u001b[0;32m     <a href='vscode-notebook-cell:/c%3A/Users/leosf/Repositories/Aps_2/teste.ipynb#W1sZmlsZQ%3D%3D?line=9'>10</a>\u001b[0m     \u001b[39mif\u001b[39;00m pontos \u001b[39min\u001b[39;00m string:\n\u001b[0;32m     <a href='vscode-notebook-cell:/c%3A/Users/leosf/Repositories/Aps_2/teste.ipynb#W1sZmlsZQ%3D%3D?line=10'>11</a>\u001b[0m         string \u001b[39m=\u001b[39m string\u001b[39m.\u001b[39mreplace(\u001b[39mf\u001b[39m\u001b[39m'\u001b[39m\u001b[39m{\u001b[39;00mpontos\u001b[39m}\u001b[39;00m\u001b[39m'\u001b[39m,\u001b[39m'\u001b[39m\u001b[39m'\u001b[39m)\n\u001b[1;32m---> <a href='vscode-notebook-cell:/c%3A/Users/leosf/Repositories/Aps_2/teste.ipynb#W1sZmlsZQ%3D%3D?line=11'>12</a>\u001b[0m lista \u001b[39m=\u001b[39m re\u001b[39m.\u001b[39;49msplit(\u001b[39mr\u001b[39;49m\u001b[39m'\u001b[39;49m\u001b[39m\\\u001b[39;49m\u001b[39ms+|\u001b[39;49m\u001b[39m\\\u001b[39;49m\u001b[39mW+\u001b[39;49m\u001b[39m'\u001b[39;49m, string\u001b[39m.\u001b[39;49mlower())\n\u001b[0;32m     <a href='vscode-notebook-cell:/c%3A/Users/leosf/Repositories/Aps_2/teste.ipynb#W1sZmlsZQ%3D%3D?line=12'>13</a>\u001b[0m lista \u001b[39m=\u001b[39m [palavra \u001b[39mfor\u001b[39;00m palavra \u001b[39min\u001b[39;00m lista \u001b[39mif\u001b[39;00m palavra]\n\u001b[0;32m     <a href='vscode-notebook-cell:/c%3A/Users/leosf/Repositories/Aps_2/teste.ipynb#W1sZmlsZQ%3D%3D?line=13'>14</a>\u001b[0m \u001b[39mreturn\u001b[39;00m lista\n",
      "\u001b[1;31mKeyboardInterrupt\u001b[0m: "
     ]
    }
   ],
   "source": [
    "\n",
    "def limpa_texto(df):\n",
    "    pontuacao = [',', '.', ';', ':', '!', '?', '-', '(', ')', '[', ']', '{', '}', '\"', '/', '\\\\', '|', '_', '+', '=', '*', '&', '@', '#', '$', '%', '^', '<','>','`','~']\n",
    "    lista = []\n",
    "    for palavras in df:\n",
    "        lista.append(palavras)\n",
    "    string = ' '.join(lista)\n",
    "    if '<br /><br />' in string:\n",
    "        string = string.replace('<br /><br />', ' ')\n",
    "    for pontos in pontuacao:\n",
    "        if pontos in string:\n",
    "            string = string.replace(f'{pontos}','')\n",
    "    lista = re.split(r'\\s+|\\W+', string.lower())\n",
    "    lista = [palavra for palavra in lista if palavra]\n",
    "    return lista\n",
    "\n",
    "def limpa_texto_review(df):\n",
    "    pontuacao = [',', '.', ';', ':', '!', '?', '-', '(', ')', '[', ']', '{', '}', '\"', '/', '\\\\', '|', '_', '+', '=', '*', '&', '@', '#', '$', '%', '^', '<','>','`','~']\n",
    "    lista = df.split(' ') \n",
    "    string = ' '.join(lista)\n",
    "    if '<br /><br />' in string:\n",
    "        string = string.replace('<br /><br />', ' ')\n",
    "    for pontos in pontuacao:\n",
    "        if pontos in string:\n",
    "            string = string.replace(f'{pontos}','')\n",
    "    lista = re.split(r'\\s+|\\W+', string.lower())\n",
    "    lista = [palavra for palavra in lista if palavra]\n",
    "    return lista\n",
    "\n",
    "lista_total = limpa_texto(df_teste['review'])\n",
    "\n",
    "filtro_positivo = df_teste['sentiment'] == 'positive'\n",
    "df_positivo = df_teste[filtro_positivo]\n",
    "lista_positivo = limpa_texto(df_positivo['review'])\n",
    "\n",
    "filtro_negativo = df_teste['sentiment'] == 'negative'\n",
    "df_negativo = df_teste[filtro_negativo]\n",
    "lista_negativo = limpa_texto(df_negativo['review'])"
   ]
  },
  {
   "cell_type": "code",
   "execution_count": null,
   "metadata": {},
   "outputs": [],
   "source": [
    "dic_contagem_total = {}\n",
    "for i in range(len(df_teste)):\n",
    "    lista_arrumada = limpa_texto_review(df_teste.iloc[i]['review'])\n",
    "    lista_arrumada_unique = list(set(lista_arrumada))\n",
    "\n",
    "    for palavras in lista_arrumada_unique:    \n",
    "        if palavras not in dic_contagem_total:\n",
    "            dic_contagem_total[palavras] = 1\n",
    "        else:\n",
    "            dic_contagem_total[palavras] += 1\n",
    "\n",
    "dic_probabilidades_total = {}\n",
    "for palavras, contagem in dic_contagem_total.items():\n",
    "    dic_probabilidades_total[palavras] = contagem/len(df_teste)"
   ]
  },
  {
   "cell_type": "markdown",
   "metadata": {},
   "source": []
  },
  {
   "cell_type": "code",
   "execution_count": null,
   "metadata": {},
   "outputs": [],
   "source": [
    "dic_contagem_positivo = {}\n",
    "for i in range(len(df_positivo)):\n",
    "    lista_arrumada = limpa_texto_review(df_positivo.iloc[i]['review'])\n",
    "    lista_arrumada_unique = list(set(lista_arrumada))\n",
    "\n",
    "    for palavras in lista_arrumada_unique:    \n",
    "        if palavras not in dic_contagem_positivo:\n",
    "            dic_contagem_positivo[palavras] = 1\n",
    "        else:\n",
    "            dic_contagem_positivo[palavras] += 1\n",
    "\n",
    "dic_probabilidades_positivo = {}\n",
    "for palavras, contagem in dic_contagem_positivo.items():\n",
    "    dic_probabilidades_positivo[palavras] = contagem/len(df_positivo)\n",
    "\n",
    "dic_probabilidades_barrada_positivo = {}\n",
    "for palavra, probabilidade in dic_probabilidades_positivo.items():\n",
    "    dic_probabilidades_barrada_positivo[palavra] = 1-probabilidade\n",
    "\n",
    "for palavras in lista_negativo:\n",
    "    if palavras not in dic_probabilidades_barrada_positivo:\n",
    "        dic_probabilidades_barrada_positivo[palavras] = 1"
   ]
  },
  {
   "cell_type": "code",
   "execution_count": null,
   "metadata": {},
   "outputs": [],
   "source": [
    "dic_contagem_negativo = {}\n",
    "for i in range(len(df_negativo)):\n",
    "    lista_arrumada = limpa_texto_review(df_negativo.iloc[i]['review'])\n",
    "    lista_arrumada_unique = list(set(lista_arrumada))\n",
    "\n",
    "    for palavras in lista_arrumada_unique:    \n",
    "        if palavras not in dic_contagem_negativo:\n",
    "            dic_contagem_negativo[palavras] = 1\n",
    "        else:\n",
    "            dic_contagem_negativo[palavras] += 1\n",
    "\n",
    "dic_probabilidades_negativo = {}\n",
    "for palavras, contagem in dic_contagem_negativo.items():\n",
    "    dic_probabilidades_negativo[palavras] = contagem/len(df_negativo)\n",
    "\n",
    "dic_probabilidades_barrada_negativo = {}\n",
    "for palavra, probabilidade in dic_probabilidades_negativo.items():\n",
    "    dic_probabilidades_barrada_negativo[palavra] = 1-probabilidade\n",
    "\n",
    "for palavras in lista_positivo:\n",
    "    if palavras not in dic_probabilidades_barrada_negativo:\n",
    "        dic_probabilidades_barrada_negativo[palavras] = 1"
   ]
  },
  {
   "cell_type": "code",
   "execution_count": null,
   "metadata": {},
   "outputs": [
    {
     "name": "stdout",
     "output_type": "stream",
     "text": [
      "50\n",
      "{0: 'positive', 1: 'positive', 2: 'positive', 3: 'negative', 4: 'positive', 5: 'positive', 6: 'positive', 7: 'negative', 8: 'negative', 9: 'positive', 10: 'negative', 11: 'negative', 12: 'negative', 13: 'negative', 14: 'positive', 15: 'negative', 16: 'positive', 17: 'negative', 18: 'positive', 19: 'negative', 20: 'positive', 21: 'negative', 22: 'positive', 23: 'negative', 24: 'negative', 25: 'positive', 26: 'positive', 27: 'negative', 28: 'negative', 29: 'positive', 30: 'positive', 31: 'positive', 32: 'negative', 33: 'positive', 34: 'negative', 35: 'negative', 36: 'negative', 37: 'negative', 38: 'positive', 39: 'negative', 40: 'negative', 41: 'positive', 42: 'negative', 43: 'negative', 44: 'positive', 45: 'positive', 46: 'negative', 47: 'negative', 48: 'positive', 49: 'negative'}\n"
     ]
    }
   ],
   "source": [
    "import math \n",
    "indice_acerto = 0\n",
    "\n",
    "dic={}\n",
    "for i in range(len(df_teste)):\n",
    "    p_negativa, p_positiva = 0, 0\n",
    "    negativo_confirmado,positivo_confirmado = False, False\n",
    "    lista_arrumada = limpa_texto_review(df_teste.iloc[i]['review'])\n",
    "    \n",
    "    for palavras in lista_arrumada:  \n",
    "        if palavras in dic_probabilidades_positivo:\n",
    "            p_positiva += math.log10(dic_probabilidades_positivo[palavras]+0.001)\n",
    "        else:\n",
    "            negativo_confirmado = True\n",
    "        if palavras in dic_probabilidades_negativo:\n",
    "            p_negativa += math.log10(dic_probabilidades_negativo[palavras]+0.001)            \n",
    "        else:\n",
    "            positivo_confirmado = True\n",
    "    \n",
    "    for palavras2 in lista_total:    \n",
    "        if palavras2 not in lista_arrumada:\n",
    "            p_positiva += math.log10(dic_probabilidades_barrada_positivo[palavras2]+0.001)\n",
    "        if palavras2 not in lista_arrumada:\n",
    "            p_negativa += math.log10(dic_probabilidades_barrada_negativo[palavras2]+0.001)\n",
    "\n",
    "    if positivo_confirmado:\n",
    "        dic[i] = 'positive'\n",
    "    elif negativo_confirmado:        \n",
    "        dic[i] = 'negative'\n",
    "    else:   \n",
    "        if p_positiva > p_negativa:\n",
    "            dic[i] = 'positive'\n",
    "        else:\n",
    "            dic[i] = 'negative'\n",
    "for i in dic:\n",
    "    if dic[i] == df_teste.iloc[i]['sentiment']:\n",
    "        indice_acerto += 1\n",
    "\n",
    "print(indice_acerto)\n",
    "print(dic)"
   ]
  },
  {
   "cell_type": "code",
   "execution_count": null,
   "metadata": {},
   "outputs": [],
   "source": []
  }
 ],
 "metadata": {
  "kernelspec": {
   "display_name": "Python 3",
   "language": "python",
   "name": "python3"
  },
  "language_info": {
   "codemirror_mode": {
    "name": "ipython",
    "version": 3
   },
   "file_extension": ".py",
   "mimetype": "text/x-python",
   "name": "python",
   "nbconvert_exporter": "python",
   "pygments_lexer": "ipython3",
   "version": "3.10.9"
  },
  "orig_nbformat": 4
 },
 "nbformat": 4,
 "nbformat_minor": 2
}
