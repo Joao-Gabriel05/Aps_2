{
 "cells": [
  {
   "cell_type": "code",
   "execution_count": 7,
   "metadata": {},
   "outputs": [],
   "source": [
    "import pandas as pd\n",
    "df = pd.read_csv('dados/teste.csv')\n",
    "metade = len(df)/2\n",
    "df_teste = df[:int(metade)]\n",
    "df_treino = df[int(metade):]"
   ]
  },
  {
   "cell_type": "code",
   "execution_count": 48,
   "metadata": {},
   "outputs": [],
   "source": [
    "import re\n",
    "\n",
    "filtro_positivo = df_teste['sentiment'] == 'positive'\n",
    "df_positivo = df_teste[filtro_positivo]\n",
    "\n",
    "lista = []\n",
    "for palavras in df_positivo['review']:\n",
    "    lista.append(palavras)\n",
    "\n",
    "string = ' '.join(lista)\n",
    "if '<br /><br />' in string:\n",
    "    string = string.replace('<br /><br />', ' ')\n",
    "\n",
    "pontuacao = ['.',',','!','?','\"','&',\"'\",'/',':']\n",
    "for pontos in pontuacao:\n",
    "    if pontos in string:\n",
    "        string = string.replace(f'{pontos}','')\n",
    "\n",
    "lista_arrumada = re.split(r'\\s+|\\W+', string.lower())\n",
    "lista_arrumada = [palavra for palavra in lista_arrumada if palavra]\n",
    "\n",
    "dic_contagem = {}\n",
    "for palavras in lista_arrumada:\n",
    "    if palavras not in dic_contagem:\n",
    "        dic_contagem[palavras] = 1\n",
    "    else:\n",
    "        dic_contagem[palavras] += 1\n",
    "\n",
    "dic_probabilidades_positivo = {}\n",
    "for palavra, contagem in dic_contagem.items():\n",
    "    dic_probabilidades_positivo[palavra] = int(contagem)/len(lista_arrumada)"
   ]
  },
  {
   "cell_type": "code",
   "execution_count": 49,
   "metadata": {},
   "outputs": [],
   "source": [
    "import re\n",
    "\n",
    "filtro_negativo = df_teste['sentiment'] == 'negative'\n",
    "df_negativo = df_teste[filtro_negativo]\n",
    "\n",
    "lista = []\n",
    "for palavras in df_negativo['review']:\n",
    "    lista.append(palavras)\n",
    "\n",
    "string = ' '.join(lista)\n",
    "if '<br /><br />' in string:\n",
    "    string = string.replace('<br /><br />', ' ')\n",
    "\n",
    "pontuacao = ['.',',','!','?','\"','&',\"'\",'/',':']\n",
    "for pontos in pontuacao:\n",
    "    if pontos in string:\n",
    "        string = string.replace(f'{pontos}','')\n",
    "\n",
    "lista_arrumada = re.split(r'\\s+|\\W+', string.lower())\n",
    "lista_arrumada = [palavra for palavra in lista_arrumada if palavra]\n",
    "\n",
    "dic_contagem = {}\n",
    "for palavras in lista_arrumada:\n",
    "    if palavras not in dic_contagem:\n",
    "        dic_contagem[palavras] = 1\n",
    "    else:\n",
    "        dic_contagem[palavras] += 1\n",
    "\n",
    "dic_probabilidades_negativo = {}\n",
    "for palavra, contagem in dic_contagem.items():\n",
    "    dic_probabilidades_negativo[palavra] = int(contagem)/len(lista_arrumada)"
   ]
  }
 ],
 "metadata": {
  "kernelspec": {
   "display_name": "Python 3",
   "language": "python",
   "name": "python3"
  },
  "language_info": {
   "codemirror_mode": {
    "name": "ipython",
    "version": 3
   },
   "file_extension": ".py",
   "mimetype": "text/x-python",
   "name": "python",
   "nbconvert_exporter": "python",
   "pygments_lexer": "ipython3",
   "version": "3.10.9"
  },
  "orig_nbformat": 4
 },
 "nbformat": 4,
 "nbformat_minor": 2
}
