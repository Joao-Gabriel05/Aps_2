{
 "cells": [
  {
   "cell_type": "code",
   "execution_count": 22,
   "metadata": {},
   "outputs": [],
   "source": [
    "import pandas as pd\n",
    "df = pd.read_csv('dados/teste.csv')\n",
    "metade = len(df)/2\n",
    "df_teste = df[:int(metade)]\n",
    "df_treino = df[int(metade):]"
   ]
  },
  {
   "cell_type": "code",
   "execution_count": 30,
   "metadata": {},
   "outputs": [],
   "source": [
    "import re\n",
    "\n",
    "filtro_positivo = df_teste['sentiment'] == 'positive'\n",
    "df_positivo = df_teste[filtro_positivo]\n",
    "\n",
    "lista = []\n",
    "for palavras in df_positivo['review']:\n",
    "    lista.append(palavras)\n",
    "\n",
    "string = ' '.join(lista)\n",
    "if '<br /><br />' in string:\n",
    "    string = string.replace('<br /><br />', ' ')\n",
    "\n",
    "pontuacao = ['.',',','!','?','\"','&',\"'\",'/',':']\n",
    "for pontos in pontuacao:\n",
    "    if pontos in string:\n",
    "        string = string.replace(f'{pontos}','')\n",
    "\n",
    "lista_arrumada = re.split(r'\\s+|\\W+', string.lower())\n",
    "lista_arrumada = [palavra for palavra in lista_arrumada if palavra]\n",
    "dic_contagem = {}\n",
    "for palavras in lista_arrumada:\n",
    "    if palavras not in dic_contagem:\n",
    "        dic_contagem[palavras] = 1\n",
    "    else:\n",
    "        dic_contagem[palavras] += 1\n",
    "\n",
    "dic_probabilidades_positivo = {}\n",
    "for palavra, contagem in dic_contagem.items():\n",
    "    dic_probabilidades_positivo[palavra] = int(contagem)/len(lista_arrumada)\n",
    "dic_contagem_barrada={}\n",
    "for palavras in lista_arrumada:\n",
    "    if palavras not in dic_contagem:\n",
    "        dic_contagem_barrada[palavras] = 0\n",
    "for palavra in lista_arrumada:\n",
    "    for p in dic_contagem_barrada:\n",
    "        if p!=palavra:\n",
    "            p+=1\n",
    "dic_probabilidades_positivo_barrada = {}\n",
    "for palavra, contagem in dic_contagem_barrada.items():\n",
    "    dic_probabilidades_positivo_barrada[palavra] = int(contagem)/len(lista_arrumada)"
   ]
  },
  {
   "cell_type": "code",
   "execution_count": 41,
   "metadata": {},
   "outputs": [
    {
     "ename": "KeyboardInterrupt",
     "evalue": "",
     "output_type": "error",
     "traceback": [
      "\u001b[0;31m---------------------------------------------------------------------------\u001b[0m",
      "\u001b[0;31mKeyboardInterrupt\u001b[0m                         Traceback (most recent call last)",
      "Cell \u001b[0;32mIn[41], line 27\u001b[0m\n\u001b[1;32m     25\u001b[0m         dic_contagem[palavras] \u001b[39m=\u001b[39m \u001b[39m1\u001b[39m\n\u001b[1;32m     26\u001b[0m     \u001b[39melse\u001b[39;00m:\n\u001b[0;32m---> 27\u001b[0m         dic_contagem[palavras] \u001b[39m+\u001b[39m\u001b[39m=\u001b[39m \u001b[39m1\u001b[39m\n\u001b[1;32m     29\u001b[0m dic_probabilidades_negativo \u001b[39m=\u001b[39m {}\n\u001b[1;32m     30\u001b[0m \u001b[39mfor\u001b[39;00m palavra, contagem \u001b[39min\u001b[39;00m dic_contagem\u001b[39m.\u001b[39mitems():\n",
      "\u001b[0;31mKeyboardInterrupt\u001b[0m: "
     ]
    }
   ],
   "source": [
    "import re\n",
    "\n",
    "filtro_negativo = df_teste['sentiment'] == 'negative'\n",
    "df_negativo = df_teste[filtro_negativo]\n",
    "\n",
    "lista = []\n",
    "for palavras in df_negativo['review']:\n",
    "    lista.append(palavras)\n",
    "\n",
    "string = ' '.join(lista)\n",
    "if '<br /><br />' in string:\n",
    "    string = string.replace('<br /><br />', ' ')\n",
    "\n",
    "pontuacao = ['.',',','!','?','\"','&',\"'\",'/',':']\n",
    "for pontos in pontuacao:\n",
    "    if pontos in string:\n",
    "        string = string.replace(f'{pontos}','')\n",
    "\n",
    "lista_arrumada = re.split(r'\\s+|\\W+', string.lower())\n",
    "lista_arrumada = [palavra for palavra in lista_arrumada if palavra]\n",
    "\n",
    "dic_contagem = {}\n",
    "for palavras in lista_arrumada:\n",
    "    if palavras not in dic_contagem:\n",
    "        dic_contagem[palavras] = 1\n",
    "    else:\n",
    "        dic_contagem[palavras] += 1\n",
    "\n",
    "dic_probabilidades_negativo = {}\n",
    "for palavra, contagem in dic_contagem.items():\n",
    "    dic_probabilidades_negativo[palavra] = int(contagem)/len(lista_arrumada)\n",
    "\n",
    "dic_contagem_barrada={}\n",
    "for palavras in lista_arrumada:\n",
    "    if palavras not in dic_contagem:\n",
    "        dic_contagem_barrada[palavras] = 0\n",
    "for palavra in lista_arrumada:\n",
    "    for p in dic_contagem_barrada:\n",
    "        if p!=palavra:\n",
    "            p+=1\n",
    "dic_probabilidades_negativo_barrada = {}\n",
    "for palavra, contagem in dic_contagem_barrada.items():\n",
    "    dic_probabilidades_negativo_barrada[palavra] = int(contagem)/len(lista_arrumada)"
   ]
  },
  {
   "cell_type": "code",
   "execution_count": 49,
   "metadata": {},
   "outputs": [
    {
     "name": "stdout",
     "output_type": "stream",
     "text": [
      "I sure would like to see a resurrection of a up dated Seahunt series with the tech they have today it would bring back the kid excitement in me I grew up on black and white TV and Seahunt with Gunsmoke were my hero s every week You have my vote for a comeback of a new sea hunt We need a change of pace in TV and this would work for a world of under water adventure Oh by the way thank you for an outlet like this to view many viewpoints about TV and the many movies So any ole way I believe I ve got what I wanna say Would be nice to read some more plus points about sea hunt If my rhymes would be 10 lines would you let me submit or leave me out to be in doubt and have me to quit If this is so then I must go so lets do it \n",
      "['i', 'sure', 'would', 'like', 'to', 'see', 'a', 'resurrection', 'of', 'a', 'up', 'dated', 'seahunt', 'series', 'with', 'the', 'tech', 'they', 'have', 'today', 'it', 'would', 'bring', 'back', 'the', 'kid', 'excitement', 'in', 'me', 'i', 'grew', 'up', 'on', 'black', 'and', 'white', 'tv', 'and', 'seahunt', 'with', 'gunsmoke', 'were', 'my', 'hero', 's', 'every', 'week', 'you', 'have', 'my', 'vote', 'for', 'a', 'comeback', 'of', 'a', 'new', 'sea', 'hunt', 'we', 'need', 'a', 'change', 'of', 'pace', 'in', 'tv', 'and', 'this', 'would', 'work', 'for', 'a', 'world', 'of', 'under', 'water', 'adventure', 'oh', 'by', 'the', 'way', 'thank', 'you', 'for', 'an', 'outlet', 'like', 'this', 'to', 'view', 'many', 'viewpoints', 'about', 'tv', 'and', 'the', 'many', 'movies', 'so', 'any', 'ole', 'way', 'i', 'believe', 'i', 've', 'got', 'what', 'i', 'wanna', 'say', 'would', 'be', 'nice', 'to', 'read', 'some', 'more', 'plus', 'points', 'about', 'sea', 'hunt', 'if', 'my', 'rhymes', 'would', 'be', '10', 'lines', 'would', 'you', 'let', 'me', 'submit', 'or', 'leave', 'me', 'out', 'to', 'be', 'in', 'doubt', 'and', 'have', 'me', 'to', 'quit', 'if', 'this', 'is', 'so', 'then', 'i', 'must', 'go', 'so', 'lets', 'do', 'it']\n",
      "i\n",
      "sure\n",
      "would\n",
      "like\n",
      "to\n",
      "see\n",
      "a\n",
      "resurrection\n",
      "of\n",
      "a\n",
      "up\n",
      "dated\n",
      "seahunt\n"
     ]
    },
    {
     "ename": "KeyError",
     "evalue": "'seahunt'",
     "output_type": "error",
     "traceback": [
      "\u001b[0;31m---------------------------------------------------------------------------\u001b[0m",
      "\u001b[0;31mKeyError\u001b[0m                                  Traceback (most recent call last)",
      "Cell \u001b[0;32mIn[49], line 22\u001b[0m\n\u001b[1;32m     20\u001b[0m     \u001b[39mprint\u001b[39m(palavra)\n\u001b[1;32m     21\u001b[0m     p_positiva\u001b[39m*\u001b[39m\u001b[39m=\u001b[39mdic_probabilidades_positivo[palavra]\n\u001b[0;32m---> 22\u001b[0m     p_negativa\u001b[39m*\u001b[39m\u001b[39m=\u001b[39mdic_probabilidades_negativo[palavra]\n\u001b[1;32m     23\u001b[0m \u001b[39mprint\u001b[39m(p_positiva)\n\u001b[1;32m     24\u001b[0m \u001b[39mprint\u001b[39m(p_negativa)\n",
      "\u001b[0;31mKeyError\u001b[0m: 'seahunt'"
     ]
    }
   ],
   "source": [
    "p_positiva=1\n",
    "p_negativa=1\n",
    "linha=(df_teste.iloc[6]['review'])\n",
    "\n",
    "lista_esp = linha.split(' ')\n",
    "string=' '.join(lista_esp)\n",
    "if '<br /><br />' in string:\n",
    "    string = string.replace('<br /><br />', ' ')\n",
    "\n",
    "pontuacao = ['.',',','!','?','\"','&',\"'\",'/',':']\n",
    "for pontos in pontuacao:\n",
    "    if pontos in string:\n",
    "        string = string.replace(f'{pontos}',' ')\n",
    "\n",
    "print(string)\n",
    "lista_esp = re.split(r'\\s+|\\W+', string.lower())\n",
    "lista_esp= [palavra for palavra in lista_esp if palavra]\n",
    "for palavra in lista_esp:\n",
    "    print(palavra)\n",
    "    p_positiva*=dic_probabilidades_positivo[palavra]\n",
    "    p_negativa*=dic_probabilidades_negativo[palavra]\n",
    "print(p_positiva)\n",
    "print(p_negativa)"
   ]
  }
 ],
 "metadata": {
  "kernelspec": {
   "display_name": "Python 3",
   "language": "python",
   "name": "python3"
  },
  "language_info": {
   "codemirror_mode": {
    "name": "ipython",
    "version": 3
   },
   "file_extension": ".py",
   "mimetype": "text/x-python",
   "name": "python",
   "nbconvert_exporter": "python",
   "pygments_lexer": "ipython3",
   "version": "3.9.10"
  },
  "orig_nbformat": 4
 },
 "nbformat": 4,
 "nbformat_minor": 2
}
