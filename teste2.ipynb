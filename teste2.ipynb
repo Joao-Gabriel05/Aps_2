{
 "cells": [
  {
   "cell_type": "code",
   "execution_count": 2,
   "metadata": {},
   "outputs": [],
   "source": [
    "import pandas as pd\n",
    "import re \n",
    "df = pd.read_csv('dados/teste.csv')\n",
    "metade = len(df)/2\n",
    "df_teste = df[:int(metade)]\n",
    "df_treino = df[int(metade):]"
   ]
  },
  {
   "cell_type": "code",
   "execution_count": 56,
   "metadata": {},
   "outputs": [],
   "source": [
    "\n",
    "def limpa_texto(df):\n",
    "    pontuacao = [',', '.', ';', ':', '!', '?', '-', '(', ')', '[', ']', '{', '}', '\"', '/', '\\\\', '|', '_', '+', '=', '*', '&', '@', '#', '$', '%', '^', '<','>','`','~']\n",
    "    lista = []\n",
    "    for palavras in df:\n",
    "        lista.append(palavras)\n",
    "    string = ' '.join(lista)\n",
    "    if '<br /><br />' in string:\n",
    "        string = string.replace('<br /><br />', ' ')\n",
    "    for pontos in pontuacao:\n",
    "        if pontos in string:\n",
    "            string = string.replace(f'{pontos}','')\n",
    "    lista = re.split(r'\\s+|\\W+', string.lower())\n",
    "    lista = [palavra for palavra in lista if palavra]\n",
    "    return lista\n",
    "\n",
    "lista_total = limpa_texto(df_teste['review'])\n",
    "\n",
    "\n",
    "filtro_positivo = df_teste['sentiment'] == 'positive'\n",
    "df_positivo = df_teste[filtro_positivo]\n",
    "lista_positivo = limpa_texto(df_positivo['review'])\n",
    "\n",
    "\n",
    "filtro_negativo = df_teste['sentiment'] == 'negative'\n",
    "df_negativo = df_teste[filtro_negativo]\n",
    "lista_negativo = limpa_texto(df_negativo['review'])"
   ]
  },
  {
   "cell_type": "code",
   "execution_count": 57,
   "metadata": {},
   "outputs": [],
   "source": [
    "\n",
    "dic_contagem = {}\n",
    "for palavras in lista_positivo:\n",
    "    if palavras not in dic_contagem:\n",
    "        dic_contagem[palavras] = 1\n",
    "    else:\n",
    "        dic_contagem[palavras] += 1\n",
    "\n",
    "dic_probabilidades_positivo = {}\n",
    "for palavra, contagem in dic_contagem.items():\n",
    "    dic_probabilidades_positivo[palavra] = int(contagem)/len(lista_total)\n",
    "\n",
    "dic_probabilidades_barrada_positivo = {}\n",
    "for palavra, probabilidade in dic_probabilidades_positivo.items():\n",
    "    dic_probabilidades_barrada_positivo[palavra] = 1-probabilidade\n",
    "\n",
    "for palavras in lista_negativo:\n",
    "    if palavras not in dic_probabilidades_barrada_positivo:\n",
    "        dic_probabilidades_barrada_positivo[palavras] = 1"
   ]
  },
  {
   "cell_type": "code",
   "execution_count": 58,
   "metadata": {},
   "outputs": [],
   "source": [
    "dic_contagem = {}\n",
    "for palavras in lista_negativo:\n",
    "    if palavras not in dic_contagem:\n",
    "        dic_contagem[palavras] = 1\n",
    "    else:\n",
    "        dic_contagem[palavras] += 1\n",
    "\n",
    "dic_probabilidades_negativo = {}\n",
    "for palavra, contagem in dic_contagem.items():\n",
    "    dic_probabilidades_negativo[palavra] = int(contagem)/len(lista_total)\n",
    "\n",
    "dic_probabilidades_barrada_negativo = {}\n",
    "for palavra, probabilidade in dic_probabilidades_negativo.items():\n",
    "    dic_probabilidades_barrada_negativo[palavra] = 1-probabilidade\n",
    "\n",
    "for palavras in lista_positivo:\n",
    "    if palavras not in dic_probabilidades_barrada_negativo:\n",
    "        dic_probabilidades_barrada_negativo[palavras] = 1"
   ]
  },
  {
   "cell_type": "code",
   "execution_count": 59,
   "metadata": {},
   "outputs": [
    {
     "name": "stdout",
     "output_type": "stream",
     "text": [
      "0.0\n"
     ]
    }
   ],
   "source": [
    "import math \n",
    "p_positiva, p_positiva_barrada, p_negativa, p_negativa_barrada = 0, 0, 0, 0\n",
    "    \n",
    "for palavras in lista_total:\n",
    "    if palavras in dic_probabilidades_positivo:\n",
    "        p_positiva += math.log(dic_probabilidades_positivo[palavras])\n",
    "    if palavras in dic_probabilidades_negativo:\n",
    "        p_negativa += math.log(dic_probabilidades_negativo[palavras])\n",
    "\n",
    "    if palavras not in dic_probabilidades_positivo:\n",
    "        p_positiva_barrada += math.log(dic_probabilidades_barrada_positivo[palavras])\n",
    "    if palavras not in dic_probabilidades_negativo:\n",
    "        p_negativa_barrada += math.log(dic_probabilidades_barrada_negativo[palavras])\n",
    "\n",
    "print(p_positiva_barrada)"
   ]
  }
 ],
 "metadata": {
  "kernelspec": {
   "display_name": "Python 3",
   "language": "python",
   "name": "python3"
  },
  "language_info": {
   "codemirror_mode": {
    "name": "ipython",
    "version": 3
   },
   "file_extension": ".py",
   "mimetype": "text/x-python",
   "name": "python",
   "nbconvert_exporter": "python",
   "pygments_lexer": "ipython3",
   "version": "3.10.9"
  },
  "orig_nbformat": 4
 },
 "nbformat": 4,
 "nbformat_minor": 2
}
